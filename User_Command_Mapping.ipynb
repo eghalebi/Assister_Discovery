{
 "cells": [
  {
   "cell_type": "markdown",
   "metadata": {},
   "source": [
    "# Assister Discovery\n",
    "\n",
    "`Assister discovery` is a software that maps user requests to executable commands in [Assister Pipeline](https://github.com/keyvan-m-sadeghi/assister/tree/assister-conception/rfcs/text/assister-conception#assister-pipeline), illustrated in the following figure. Using [Natural Language Understanding](https://en.wikipedia.org/wiki/Natural-language_understanding) coupled with Machine Learning over the [Terms and Functions](https://github.com/keyvan-m-sadeghi/assister/tree/assister-conception/rfcs/text/assister-conception#terms-and-functions-language-tfx) contextual annotations embedded in an application, a discovery can translate a request to the corresponding command. The command will then be executed within the Pipeline. [[Link to the full proposal]](https://github.com/keyvan-m-sadeghi/assister/tree/assister-conception/rfcs/text/assister-conception)\n",
    "\n",
    "![Assister_pipeline](img/pipeline.png)"
   ]
  },
  {
   "cell_type": "markdown",
   "metadata": {},
   "source": [
    "## Research Task\n",
    "\n",
    "The research task corresponsing to the aforementioned real problem at Assister, can now be defined as:\n",
    "> `How to map a user request in natural language to a pre-defined executable command?`\n",
    "\n",
    "We"
   ]
  },
  {
   "cell_type": "code",
   "execution_count": null,
   "metadata": {},
   "outputs": [],
   "source": []
  }
 ],
 "metadata": {
  "kernelspec": {
   "display_name": "Python 3",
   "language": "python",
   "name": "python3"
  },
  "language_info": {
   "codemirror_mode": {
    "name": "ipython",
    "version": 3
   },
   "file_extension": ".py",
   "mimetype": "text/x-python",
   "name": "python",
   "nbconvert_exporter": "python",
   "pygments_lexer": "ipython3",
   "version": "3.6.3"
  }
 },
 "nbformat": 4,
 "nbformat_minor": 2
}
